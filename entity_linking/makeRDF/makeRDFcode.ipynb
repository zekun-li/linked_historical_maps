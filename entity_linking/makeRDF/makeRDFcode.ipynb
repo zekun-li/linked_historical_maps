{
 "cells": [
  {
   "cell_type": "markdown",
   "metadata": {
    "scrolled": true
   },
   "source": [
    "input: map_phrase.json {map: [phrases]}\n",
    "\n",
    "output: rdf ttl file (mapRDF.ttl)\n",
    "\n",
    "\n",
    "USGS-15-CA-hesperia-e1902-s1898-rp1912: empty data, so not used"
   ]
  },
  {
   "cell_type": "code",
   "execution_count": 1,
   "metadata": {},
   "outputs": [],
   "source": [
    "import json\n",
    "\n",
    "with open('map_phrase_allGT.json', 'r') as f:\n",
    "    phrase_dic = json.load(f)"
   ]
  },
  {
   "cell_type": "code",
   "execution_count": 2,
   "metadata": {},
   "outputs": [],
   "source": [
    "# the number of distinct phrase per each map\n",
    "for key in phrase_dic:\n",
    "    print(len(phrase_dic[key]))"
   ]
  },
  {
   "cell_type": "code",
   "execution_count": 3,
   "metadata": {},
   "outputs": [],
   "source": [
    "from rdflib import Graph, URIRef, Literal, XSD, Namespace\n",
    "from rdflib.namespace import RDF"
   ]
  },
  {
   "cell_type": "code",
   "execution_count": 4,
   "metadata": {},
   "outputs": [],
   "source": [
    "# http://www.ldf.fi/service/rdf-grapher\n",
    "\n",
    "MYNS = Namespace('gs:kg:')\n",
    "schema = Namespace('http://schema.org/')\n",
    "rdfs = Namespace(\"http://www.w3.org/2000/01/rdf-schema#\")\n",
    "geo = Namespace(\"http://www.opengis.net/ont/geosparql#\")\n",
    "geoname = Namespace(\"http://linkedgeodata.org/ontology/\")\n",
    "\n",
    "my_kg = Graph()\n",
    "my_kg.bind('my_ns', MYNS)\n",
    "my_kg.bind('schema', schema)\n",
    "my_kg.bind('geo', geo)\n",
    "my_kg.bind('rdfs', rdfs)\n",
    "my_kg.bind('geoname', geoname)"
   ]
  },
  {
   "cell_type": "code",
   "execution_count": 5,
   "metadata": {},
   "outputs": [],
   "source": [
    "for key in phrase_dic:\n",
    "    map_name = key\n",
    "    node_uri = URIRef(MYNS[\"mapName:\"+map_name])\n",
    "    my_kg.add((node_uri, rdfs['type'], schema['Map']))\n",
    "    my_kg.add((node_uri, geoname['nearby'], Literal(key+\": Name nearby:addLater\")))\n",
    "    \n",
    "    i = 0\n",
    "    for phrase in phrase_dic[key]:\n",
    "        i += 1\n",
    "        feature_uri = URIRef(MYNS[key+'feature_id'+str(i)])\n",
    "        my_kg.add((node_uri, geo['sfOverlaps'], feature_uri))\n",
    "\n",
    "        my_kg.add((feature_uri, rdfs['label'], Literal(phrase)))\n",
    "        my_kg.add((feature_uri, rdfs['seeAlso'], URIRef(key+\"externalDBuri\"+str(i))))\n",
    "\n",
    "        my_kg.add((feature_uri, geo['asWKT'], Literal(key+\": addLater\"+str(i))))\n"
   ]
  },
  {
   "cell_type": "code",
   "execution_count": 6,
   "metadata": {},
   "outputs": [],
   "source": [
    "my_kg.serialize('mapRDF.ttl', format=\"turtle\")"
   ]
  },
  {
   "cell_type": "code",
   "execution_count": null,
   "metadata": {},
   "outputs": [],
   "source": []
  }
 ],
 "metadata": {
  "kernelspec": {
   "display_name": "Python 3",
   "language": "python",
   "name": "python3"
  },
  "language_info": {
   "codemirror_mode": {
    "name": "ipython",
    "version": 3
   },
   "file_extension": ".py",
   "mimetype": "text/x-python",
   "name": "python",
   "nbconvert_exporter": "python",
   "pygments_lexer": "ipython3",
   "version": "3.7.2"
  }
 },
 "nbformat": 4,
 "nbformat_minor": 2
}
