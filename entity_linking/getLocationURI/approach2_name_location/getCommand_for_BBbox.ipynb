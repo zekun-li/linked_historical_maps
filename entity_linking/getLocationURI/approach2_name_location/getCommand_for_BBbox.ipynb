{
 "cells": [
  {
   "cell_type": "code",
   "execution_count": 1,
   "metadata": {},
   "outputs": [],
   "source": [
    "import pandas as pd\n",
    "location_info = pd.read_csv(\"Historical Map Metadata - USGS.csv\")\n",
    "def getCoordinate(location):\n",
    "    lat_list = set()\n",
    "    long_list = set()\n",
    "    for pair in location.split(';'):\n",
    "        lat_list.add(float(pair.split(',')[0]))\n",
    "        long_list.add(float(pair.split(',')[1]))\n",
    "        \n",
    "    return lat_list, long_list\n",
    "\n",
    "loc_dic = dict()\n",
    "for i in range(len(location_info)):\n",
    "    lat_list, long_list = getCoordinate(location_info.iloc[i, 1])\n",
    "    loc_dic[location_info.iloc[i, 0]+'.jpg'] = {'lat':lat_list, \"long\":long_list}"
   ]
  },
  {
   "cell_type": "code",
   "execution_count": 2,
   "metadata": {},
   "outputs": [
    {
     "data": {
      "text/plain": [
       "{'USGS-15-CA-brawley-e1957-s1957-p1961.jpg': {'lat': {32.75, 33.0},\n",
       "  'long': {-115.75, -115.5}},\n",
       " 'USGS-15-CA-capesanmartin-e1921-s1917.jpg': {'lat': {35.75, 36.0},\n",
       "  'long': {-121.5, -121.25}},\n",
       " 'USGS-15-CA-hesperia-e1902-s1898-rp1912.jpg': {'lat': {34.25, 34.5},\n",
       "  'long': {-117.83333, -117.5, -117.25}},\n",
       " 'USGS-15-CA-paloalto-e1899-s1895-rp1911.jpg': {'lat': {37.25, 37.5},\n",
       "  'long': {-122.25, -122.0}},\n",
       " 'USGS-15-CA-sanfrancisco-e1899-s1892-rp1911.jpg': {'lat': {37.75, 38.0},\n",
       "  'long': {-122.5, -122.25}},\n",
       " 'USGS-30-CA-dardanelles-e1898-s1891-rp1912.jpg': {'lat': {38.0, 38.5},\n",
       "  'long': {-120.0, -119.5}},\n",
       " 'USGS-30-CA-holtville-e1907-s1905-rp1946.jpg': {'lat': {32.5, 33.0},\n",
       "  'long': {-115.5, -115.0}},\n",
       " 'USGS-30-CA-indiospecial-e1904-s1901-rp1910.jpg': {'lat': {33.25, 33.83333},\n",
       "  'long': {-116.5, -116.0}},\n",
       " 'USGS-30-CA-lompoc-e1943-s1903-ap1941-rv1941.jpg': {'lat': {34.5, 35.0},\n",
       "  'long': {-120.5, -120.0}},\n",
       " 'USGS-30-CA-sanpedro-e1943-rv1944.jpg': {'lat': {33.5, 34.0},\n",
       "  'long': {-118.5, -118.0}},\n",
       " 'USGS-60-CA-alturas-e1892-rp1904.jpg': {'lat': {41.0, 42.0},\n",
       "  'long': {-121.0, -120.0}},\n",
       " 'USGS-60-CA-amboy-e1942.jpg': {'lat': {34.0, 35.0}, 'long': {-116.0, -115.0}},\n",
       " 'USGS-60-CA-amboy-e1943-rv1943.jpg': {'lat': {34.0, 35.0},\n",
       "  'long': {-116.0, -115.0}},\n",
       " 'USGS-60-CA-modoclavabed-e1886-s1884.jpg': {'lat': {41.0, 42.0},\n",
       "  'long': {-122.0, -121.0}},\n",
       " 'USGS-60-CA-saltonsea-e1943-ap1940-rv1942.jpg': {'lat': {33.0, 34.0},\n",
       "  'long': {-116.0, -115.0}}}"
      ]
     },
     "execution_count": 2,
     "metadata": {},
     "output_type": "execute_result"
    }
   ],
   "source": [
    "loc_dic"
   ]
  },
  {
   "cell_type": "code",
   "execution_count": 3,
   "metadata": {},
   "outputs": [
    {
     "name": "stdout",
     "output_type": "stream",
     "text": [
      "zcat planet-latest_geonames.tsv.gz | awk -F '\\t' -v OFS='\\t' 'NR == 1 || ($8 >= 32.75 && $8 <= 33.0 && $7 >= -115.75 && $7 <= -115.5)' > USGS-15-CA-brawley-e1957-s1957-p1961.jpg.tsv\n",
      "zcat planet-latest_geonames.tsv.gz | awk -F '\\t' -v OFS='\\t' 'NR == 1 || ($8 >= 35.75 && $8 <= 36.0 && $7 >= -121.5 && $7 <= -121.25)' > USGS-15-CA-capesanmartin-e1921-s1917.jpg.tsv\n",
      "zcat planet-latest_geonames.tsv.gz | awk -F '\\t' -v OFS='\\t' 'NR == 1 || ($8 >= 34.25 && $8 <= 34.5 && $7 >= -117.83333 && $7 <= -117.25)' > USGS-15-CA-hesperia-e1902-s1898-rp1912.jpg.tsv\n",
      "zcat planet-latest_geonames.tsv.gz | awk -F '\\t' -v OFS='\\t' 'NR == 1 || ($8 >= 37.25 && $8 <= 37.5 && $7 >= -122.25 && $7 <= -122.0)' > USGS-15-CA-paloalto-e1899-s1895-rp1911.jpg.tsv\n",
      "zcat planet-latest_geonames.tsv.gz | awk -F '\\t' -v OFS='\\t' 'NR == 1 || ($8 >= 37.75 && $8 <= 38.0 && $7 >= -122.5 && $7 <= -122.25)' > USGS-15-CA-sanfrancisco-e1899-s1892-rp1911.jpg.tsv\n",
      "zcat planet-latest_geonames.tsv.gz | awk -F '\\t' -v OFS='\\t' 'NR == 1 || ($8 >= 38.0 && $8 <= 38.5 && $7 >= -120.0 && $7 <= -119.5)' > USGS-30-CA-dardanelles-e1898-s1891-rp1912.jpg.tsv\n",
      "zcat planet-latest_geonames.tsv.gz | awk -F '\\t' -v OFS='\\t' 'NR == 1 || ($8 >= 32.5 && $8 <= 33.0 && $7 >= -115.5 && $7 <= -115.0)' > USGS-30-CA-holtville-e1907-s1905-rp1946.jpg.tsv\n",
      "zcat planet-latest_geonames.tsv.gz | awk -F '\\t' -v OFS='\\t' 'NR == 1 || ($8 >= 33.25 && $8 <= 33.83333 && $7 >= -116.5 && $7 <= -116.0)' > USGS-30-CA-indiospecial-e1904-s1901-rp1910.jpg.tsv\n",
      "zcat planet-latest_geonames.tsv.gz | awk -F '\\t' -v OFS='\\t' 'NR == 1 || ($8 >= 34.5 && $8 <= 35.0 && $7 >= -120.5 && $7 <= -120.0)' > USGS-30-CA-lompoc-e1943-s1903-ap1941-rv1941.jpg.tsv\n",
      "zcat planet-latest_geonames.tsv.gz | awk -F '\\t' -v OFS='\\t' 'NR == 1 || ($8 >= 33.5 && $8 <= 34.0 && $7 >= -118.5 && $7 <= -118.0)' > USGS-30-CA-sanpedro-e1943-rv1944.jpg.tsv\n",
      "zcat planet-latest_geonames.tsv.gz | awk -F '\\t' -v OFS='\\t' 'NR == 1 || ($8 >= 41.0 && $8 <= 42.0 && $7 >= -121.0 && $7 <= -120.0)' > USGS-60-CA-alturas-e1892-rp1904.jpg.tsv\n",
      "zcat planet-latest_geonames.tsv.gz | awk -F '\\t' -v OFS='\\t' 'NR == 1 || ($8 >= 34.0 && $8 <= 35.0 && $7 >= -116.0 && $7 <= -115.0)' > USGS-60-CA-amboy-e1942.jpg.tsv\n",
      "zcat planet-latest_geonames.tsv.gz | awk -F '\\t' -v OFS='\\t' 'NR == 1 || ($8 >= 34.0 && $8 <= 35.0 && $7 >= -116.0 && $7 <= -115.0)' > USGS-60-CA-amboy-e1943-rv1943.jpg.tsv\n",
      "zcat planet-latest_geonames.tsv.gz | awk -F '\\t' -v OFS='\\t' 'NR == 1 || ($8 >= 41.0 && $8 <= 42.0 && $7 >= -122.0 && $7 <= -121.0)' > USGS-60-CA-modoclavabed-e1886-s1884.jpg.tsv\n",
      "zcat planet-latest_geonames.tsv.gz | awk -F '\\t' -v OFS='\\t' 'NR == 1 || ($8 >= 33.0 && $8 <= 34.0 && $7 >= -116.0 && $7 <= -115.0)' > USGS-60-CA-saltonsea-e1943-ap1940-rv1942.jpg.tsv\n"
     ]
    }
   ],
   "source": [
    "\"\"\"\n",
    "https://osmnames.org/download/\n",
    "Data extract by bounding box (west, south, east, north)\n",
    "\n",
    "create command for extract data by bounding box based on Historical Map Metadata\n",
    "\"\"\"\n",
    "\n",
    "for mapname in loc_dic:\n",
    "    command1 = \"zcat planet-latest_geonames.tsv.gz | awk -F '\\\\t' -v OFS='\\\\t' 'NR == 1 || ($8 >= \" \n",
    "    command2 = \"{} && $8 <= {} && $7 >= {} && $7 <= {})' > {}.tsv\".format(min(loc_dic[mapname]['lat']), max(loc_dic[mapname]['lat']), min(loc_dic[mapname]['long']), max(loc_dic[mapname]['long']), mapname)\n",
    "    print(command1+command2)"
   ]
  }
 ],
 "metadata": {
  "kernelspec": {
   "display_name": "Python 3",
   "language": "python",
   "name": "python3"
  },
  "language_info": {
   "codemirror_mode": {
    "name": "ipython",
    "version": 3
   },
   "file_extension": ".py",
   "mimetype": "text/x-python",
   "name": "python",
   "nbconvert_exporter": "python",
   "pygments_lexer": "ipython3",
   "version": "3.7.2"
  }
 },
 "nbformat": 4,
 "nbformat_minor": 2
}
