{
 "cells": [
  {
   "cell_type": "markdown",
   "metadata": {},
   "source": [
    "input: annotation csv files (ground truth and second layer)\n",
    "\n",
    "output: map_phrase.json {map: [phrases]}"
   ]
  },
  {
   "cell_type": "code",
   "execution_count": 1,
   "metadata": {
    "scrolled": true
   },
   "outputs": [
    {
     "name": "stdout",
     "output_type": "stream",
     "text": [
      "input\\101201496.csv\n",
      "Index(['id', 'TXT', 'PHRASE', 'TXT_LOC'], dtype='object')\n",
      "========\n",
      "input\\102903919.csv\n",
      "Index(['TXT', 'PHRASE', 'TXT_LOC', 'ID'], dtype='object')\n",
      "========\n",
      "input\\102903922.csv\n",
      "Index(['ID', 'TXT', 'PHRASE', 'TXT_LOC'], dtype='object')\n",
      "========\n",
      "input\\102903925.csv\n",
      "Index(['TXT', 'PHRASE', 'TXT_LOC', 'ID'], dtype='object')\n",
      "========\n",
      "input\\102903928.csv\n",
      "Index(['ID', 'TXT', 'PHRASE', 'TXT_LOC'], dtype='object')\n",
      "========\n",
      "input\\103199059.csv\n",
      "Index(['id', 'txt', 'phrase', 'txt_loc'], dtype='object')\n",
      "========\n",
      "input\\103680995.csv\n",
      "Index(['id', 'txt', 'phrase', 'txt_loc'], dtype='object')\n",
      "========\n",
      "input\\103681073.csv\n",
      "Index(['id', 'Name', 'Text', 'Position'], dtype='object')\n",
      "========\n",
      "input\\103681079.csv\n",
      "Index(['id', 'txt', 'phrase', 'txt_loc'], dtype='object')\n",
      "========\n",
      "input\\103681115.csv\n",
      "Index(['id', 'txt', 'phrase', 'txt_loc'], dtype='object')\n",
      "========\n",
      "input\\USGS-15-CA-brawley-e1957-s1957-p1961.csv\n",
      "Index(['id', 'txt', 'phrase', 'txt_loc'], dtype='object')\n",
      "========\n",
      "input\\USGS-15-CA-capesanmartin-e1921-s1917.csv\n",
      "Index(['id', 'txt', 'phrase', 'txt_loc'], dtype='object')\n",
      "========\n",
      "input\\USGS-15-CA-paloalto-e1899-s1895-rp1911.csv\n",
      "Index(['id', 'text', 'phrase', 'txt_loc'], dtype='object')\n",
      "========\n",
      "input\\USGS-15-CA-sanfrancisco-e1899-s1892-rp1911.csv\n",
      "Index(['id', 'txt', 'phrase', 'txt_loc'], dtype='object')\n",
      "========\n",
      "input\\USGS-30-CA-dardanelles-e1898-s1891-rp1912.csv\n",
      "Index(['TXT', 'Phrase', 'TXT_LOC', 'ID'], dtype='object')\n",
      "========\n",
      "input\\USGS-30-CA-holtville-e1907-s1905-rp1946.csv\n",
      "Index(['id', 'TXT', 'PHRASE', 'TXT_LOC'], dtype='object')\n",
      "========\n",
      "input\\USGS-30-CA-indiospecial-e1904-s1901-rp1910.csv\n",
      "Index(['id', 'txt', 'phrase', 'txt_loc'], dtype='object')\n",
      "========\n",
      "input\\USGS-30-CA-lompoc-e1943-s1903-ap1941-rv1941.csv\n",
      "Index(['ID', 'TXT', 'PHRASE', 'TXT_LOC'], dtype='object')\n",
      "========\n",
      "input\\USGS-30-CA-sanpedro-e1943-rv1944.csv\n",
      "Index(['id', 'TXT', 'phrase', 'txt_loc'], dtype='object')\n",
      "========\n",
      "input\\USGS-60-CA-alturas-e1892-rp1904.csv\n",
      "Index(['id', 'txt', 'phrase', 'txt_loc'], dtype='object')\n",
      "========\n",
      "input\\USGS-60-CA-amboy-e1942.csv\n",
      "Index(['id', 'txt', 'phrase', 'txt_loc'], dtype='object')\n",
      "========\n",
      "input\\USGS-60-CA-amboy-e1943-rv1943.csv\n",
      "Index(['id', 'txt', 'phrase', 'txt_loc'], dtype='object')\n",
      "========\n",
      "input\\USGS-60-CA-modoclavabed-e1886-s1884.csv\n",
      "Index(['id', 'txt', 'phrase', 'txt_loc'], dtype='object')\n",
      "========\n",
      "input\\USGS-60-CA-saltonsea-e1943-ap1940-rv1942.csv\n",
      "Index(['id', 'Name', 'Text', 'Position'], dtype='object')\n",
      "========\n"
     ]
    }
   ],
   "source": [
    "# extract phrase from ground truth and the second layer (Addded annotation)\n",
    "# USGS-15-CA-hesperia-e1902-s1898-rp1912: empty data, so not used\n",
    "\n",
    "import glob\n",
    "import pandas as pd\n",
    "\n",
    "# read all input files and check column names\n",
    "for filename in glob.glob(\"input/*.csv\"):\n",
    "    print(filename)\n",
    "    print(pd.read_csv(filename).columns)\n",
    "    print(\"========\")"
   ]
  },
  {
   "cell_type": "code",
   "execution_count": 2,
   "metadata": {},
   "outputs": [],
   "source": [
    "# make phrase set per each map jpg file\n",
    "# remove nan, lowercase\n",
    "phrase_dic = dict()\n",
    "\n",
    "for filename in glob.glob(\"input/*.csv\"):\n",
    "    key = filename[6:-3] +'jpg'\n",
    "    try:\n",
    "        try:\n",
    "            phrase_dic[key] = set([ele.lower() for ele in set(pd.read_csv(filename).phrase) if str(ele) != 'nan'])\n",
    "        except:\n",
    "            phrase_dic[key] = set([ele.lower() for ele in set(pd.read_csv(filename).PHRASE) if str(ele) != 'nan'])\n",
    "    except:\n",
    "        try:\n",
    "            phrase_dic[key] = set([ele.lower() for ele in set(pd.read_csv(filename).Phrase) if str(ele) != 'nan'])\n",
    "        except:\n",
    "            phrase_dic[key] = set([ele.lower() for ele in set(pd.read_csv(filename).Text) if str(ele) != 'nan'])"
   ]
  },
  {
   "cell_type": "code",
   "execution_count": 3,
   "metadata": {},
   "outputs": [],
   "source": [
    "# read all second layer input files and check column names\n",
    "for filename in glob.glob(\"input_2ndLayer/*.csv\"):\n",
    "    if 'phrase' not in pd.read_csv(filename).columns:\n",
    "        print(filename)\n",
    "        print(pd.read_csv(filename).columns)\n",
    "        print(\"========\")"
   ]
  },
  {
   "cell_type": "code",
   "execution_count": 4,
   "metadata": {},
   "outputs": [],
   "source": [
    "# make 2nd layer phrase set per each map jpg file\n",
    "# remove nan, lowercase\n",
    "phrase_dic3 = dict()\n",
    "\n",
    "for filename in glob.glob(\"input_2ndLayer/*.csv\"):\n",
    "    key = filename[15:-8] +'.jpg'\n",
    "    phrase_dic3[key] = set([ele.lower() for ele in set(pd.read_csv(filename).phrase) if str(ele) != 'nan'])"
   ]
  },
  {
   "cell_type": "code",
   "execution_count": 5,
   "metadata": {},
   "outputs": [
    {
     "name": "stdout",
     "output_type": "stream",
     "text": [
      "24\n",
      "20\n"
     ]
    }
   ],
   "source": [
    "# phrase_dic: ground_truth phrase per map\n",
    "# phrase_dic3: 2nd layer phrase\n",
    "# phrase_dic2: ground_truth + second layer phrases\n",
    "\n",
    "phrase_dic2 = dict()\n",
    "name = list(phrase_dic.keys())\n",
    "name2 = list(phrase_dic3.keys())\n",
    "\n",
    "print(len(name))\n",
    "print(len(name2))\n"
   ]
  },
  {
   "cell_type": "code",
   "execution_count": 6,
   "metadata": {},
   "outputs": [
    {
     "name": "stdout",
     "output_type": "stream",
     "text": [
      "0\n",
      "101201496.jpg\n",
      "5\n",
      "103199059.jpg\n",
      "7\n",
      "103681073.jpg\n",
      "12\n",
      "USGS-15-CA-paloalto-e1899-s1895-rp1911.jpg\n"
     ]
    }
   ],
   "source": [
    "for idx, name_ele in enumerate(name):\n",
    "    if name_ele not in name2:\n",
    "        print(idx)\n",
    "        print(name_ele)"
   ]
  },
  {
   "cell_type": "code",
   "execution_count": 7,
   "metadata": {},
   "outputs": [],
   "source": [
    "# no second layer file, 0 5 7 12 (5: 103199059.jpg, not finished annotation)\n",
    "a = phrase_dic[name[0]] # ground truth phrases\n",
    "phrase_dic2[name[0]] = a\n",
    "\n",
    "a = phrase_dic[name[5]] \n",
    "phrase_dic2[name[5]] = a\n",
    "\n",
    "a = phrase_dic[name[7]] # ground truth phrases\n",
    "phrase_dic2[name[7]] = a\n",
    "\n",
    "a = phrase_dic[name[12]] # ground truth phrases\n",
    "phrase_dic2[name[12]] = a"
   ]
  },
  {
   "cell_type": "code",
   "execution_count": 8,
   "metadata": {},
   "outputs": [
    {
     "name": "stdout",
     "output_type": "stream",
     "text": [
      "['(london transport)', '(terminus)', '1 to 10', '1 to 12', '1 to 17', '1 to 18', '1 to 19', '1 to 20', '1 to 24', '1 to 26', '1 to 27', '1 to 30', '1 to 32', '1 to 34', '1 to 52', '1 to 56', '1 to 70', '1 to 99', '106 to 132', '108 to 132', '11 to 20', '11 to 26', '112 to 135', '116 to 150', '12a', '133 to 160', '161 to 181', '17a', '18 to 35', '1a', '1b', '20 to 39', '26a', '28 to 51', '3 to 31', '3 to 6', '31 to 63', '31a', '341a', '35 to 68', '36 to 52', '40 to 59', '46a', '52 to 75', '53 to 69', '53 to 73', '60 to 79', '62 to 82', '6a', '71 to 80', '74 to 105', '76 to 90', '7a', '81 to 115', '83 to 107', '91 to 111', 'bm57∙52', 'bm60∙51', 'bm70∙85', 'bm74∙36', 'bm75∙70', 'cr', 'd fn', 'def', 'derbyshire house', 'euston tavern (ph)', 'fb', 'fs', 'harrison arms (ph)', 'holy cross vic', 'lb', 'norfolk arms (ph)', 'pcb', 'ph', 'plate', 'plumbers arms (ph)', 'po', 'ruin', 'ruins', 's a canteen', 'subway', 'tcb', 'tcbs', 'the dolphin (ph)', 'the show house', 'the skinners arms (ph)', 'und', 'vent pipe']\n"
     ]
    }
   ],
   "source": [
    "print(sorted(phrase_dic3[name[1]]))"
   ]
  },
  {
   "cell_type": "code",
   "execution_count": 9,
   "metadata": {},
   "outputs": [],
   "source": [
    "# extract meaningful location phrase manually\n",
    "phrase2 = {'bm57∙52', 'bm60∙51', 'bm70∙85', 'bm74∙36', 'bm75∙70', 'cr', 'd fn', 'def', 'derbyshire house', \n",
    "           'euston tavern (ph)', 'fb', 'fs', 'harrison arms (ph)', 'holy cross vic', 'lb', 'norfolk arms (ph)', \n",
    "           'pcb', 'ph', 'plate', 'plumbers arms (ph)', 'po', 'ruin', 'ruins', 's a canteen', 'subway', 'tcb', 'tcbs', \n",
    "           'the dolphin (ph)', 'the show house', 'the skinners arms (ph)', 'und', 'vent pipe'} \n",
    "\n",
    "a = phrase_dic[name[1]] # ground truth phrases\n",
    "phrase_dic2[name[1]] = sorted(a.union(phrase2))"
   ]
  },
  {
   "cell_type": "code",
   "execution_count": 10,
   "metadata": {},
   "outputs": [
    {
     "name": "stdout",
     "output_type": "stream",
     "text": [
      "['(ph)', '1 to 18', '1 to 25', '1 to 6', '101a', '10a', '11 to 14', '121 to 144', '13 to 15', '13a', '13b', '13c', '140a', '146a', '156 to 150', '15a', '15b', '16 to 18', '16 to 8', '17 to 27', '170 to 164', '171a', '181a', '185a', '18a', '1a', '21a', '233 to 241', '24 to 1', '26 to 28', '276a', '296a', '2a', '2b', '3 to 18', '31a', '38a', '38b', '4 1/2', '40 to 44', '43a', '43b', '43c', '43d', '48 to 25', '48a', '49 to 72', '4a', '65a', '7 to 12', '73 to 96', '97 to 120', 'bm47∙56', 'bm50∙71', 'bm53∙43', 'bm53∙73', 'bm68∙67', 'bm68∙80', 'bm70∙09', 'bm70∙46', 'bm75∙24', 'bm95∙38', 'chy', 'cr', 'fb', 'h1', 'h2', 'h3', 'h4', 'lb', 'ph', 'plate', 'po', 'ruin', 'sp', 'tcb', 'tcbs', 'the golden lion (ph)', 'und', 'wharton cottages', 'wicklow works']\n"
     ]
    }
   ],
   "source": [
    "print(sorted(phrase_dic3[name[2]]))"
   ]
  },
  {
   "cell_type": "code",
   "execution_count": 11,
   "metadata": {},
   "outputs": [],
   "source": [
    "phrase2 =  {'bm47∙56', 'bm50∙71', 'bm53∙43', 'bm53∙73', 'bm68∙67', 'bm68∙80', 'bm70∙09', 'bm70∙46', 'bm75∙24', 'bm95∙38', \n",
    "            'chy', 'cr', 'fb', 'ph', 'plate', 'po', 'ruin', 'sp', 'tcb', 'tcbs', 'the golden lion (ph)', 'und', \n",
    "            'wharton cottages', 'wicklow works'}\n",
    "a = phrase_dic[name[2]] # ground truth phrases\n",
    "phrase_dic2[name[2]] = sorted(a.union(phrase2))"
   ]
  },
  {
   "cell_type": "code",
   "execution_count": 12,
   "metadata": {},
   "outputs": [
    {
     "name": "stdout",
     "output_type": "stream",
     "text": [
      "['1 to 10', '1 to 12', '1 to 14', '1 to 18', '1 to 24', '1 to 25', '1 to 26', '1 to 3', '1 to 35', '1 to 50', '1 to 501', '1 to 60', '1 to 63', '11 to 20', '14 to 26', '14 to 42', '14a', '15 to 42', '16 to 13', '16 to 3', '17a', '18a', '29 to 39', '36 to 70', '37 to 46', '4 to 7', '41 to 38', '5 to 86', '58a', '59a', '60a', '60b', '60c', '70 to 76', '74a', '8 to 11', '87 1/2', '87 1/2a', '87a', '87b', 'a', 'amb sta', 'avondale hotel', 'b', 'bm75∙86', 'bp', 'c', \"coiam's garden (child welfare centre)\", 'cr', 'd', 'd fn', 'def', 'e', 'el sub sta', 'f', 'ferodo house', 'fn', 'fw', 'g', 'h', 'lb', 'met b bdy', 'minerva club', 'ormond mews', 'pcb', 'ph', 'po', 'post', 'ruin', 'school', \"st george's gardens\", 'sta', 'stones', 'ta centre', 'tcb', 'the marquis cornwallis (ph)', 'und', 'ward bdy']\n"
     ]
    }
   ],
   "source": [
    "print(sorted(phrase_dic3[name[3]]))"
   ]
  },
  {
   "cell_type": "code",
   "execution_count": 13,
   "metadata": {},
   "outputs": [],
   "source": [
    "phrase2 = {'amb sta', 'avondale hotel', 'bm75∙86', 'bp', \"coiam's garden (child welfare centre)\", 'cr', 'd fn', 'def', \n",
    "           'el sub sta', 'ferodo house', 'fn', 'fw', 'met b bdy', 'minerva club', 'ormond mews', 'pcb', 'ph', 'po', \n",
    "           'post', 'ruin', 'school', \"st george's gardens\", 'sta', 'stones', 'ta centre', 'tcb', 'the marquis cornwallis (ph)',\n",
    "           'und', 'ward bdy'}\n",
    "a = phrase_dic[name[3]] # ground truth phrases\n",
    "phrase_dic2[name[3]] = sorted(a.union(phrase2))"
   ]
  },
  {
   "cell_type": "code",
   "execution_count": 14,
   "metadata": {},
   "outputs": [
    {
     "name": "stdout",
     "output_type": "stream",
     "text": [
      "['(ph)', '1 to 12', '10 to 22', '10a', '13 to 24', '137b', '13a', '15 to 1', '15 to 20', '157 to 163', '167 to 173', '173a', '17a', '21a', '21b', '22a', '238 to 230', '238b', '23a', '24a', '25 to 36', '252a', '252b', '252c', '25a', '26a', '27a', '28a', '29 to 16', '29a', '30a', '35a', '50 to 30', '57a', '61 to 72', '81a', '93a', '9a', 'bm60∙77', 'bm69∙29', 'bm70∙95', 'bm71∙75', 'coram mansions', 'cr', 'd fn', 'dulverton mansions', 'fb', 'fs', 'kirk street', 'lavs', 'lb', 'ph', 'po', 'ruin', 'tcb', 'und']\n"
     ]
    }
   ],
   "source": [
    "print(sorted(phrase_dic3[name[4]]))"
   ]
  },
  {
   "cell_type": "code",
   "execution_count": 15,
   "metadata": {},
   "outputs": [],
   "source": [
    "phrase2 = {'bm60∙77', 'bm69∙29', 'bm70∙95', 'bm71∙75', 'coram mansions', 'cr', 'd fn', 'dulverton mansions', 'fb', 'fs', \n",
    "           'kirk street', 'lavs', 'ph', 'po', 'ruin', 'tcb', 'und'}\n",
    "a = phrase_dic[name[4]] # ground truth phrases\n",
    "phrase_dic2[name[4]] = sorted(a.union(phrase2))"
   ]
  },
  {
   "cell_type": "code",
   "execution_count": 16,
   "metadata": {},
   "outputs": [
    {
     "name": "stdout",
     "output_type": "stream",
     "text": [
      "['g.p']\n"
     ]
    }
   ],
   "source": [
    "print(sorted(phrase_dic3[name[6]]))"
   ]
  },
  {
   "cell_type": "code",
   "execution_count": 17,
   "metadata": {},
   "outputs": [],
   "source": [
    "phrase2 = {'g.p'}\n",
    "a = phrase_dic[name[6]] # ground truth phrases\n",
    "phrase_dic2[name[6]] = sorted(a.union(phrase2))"
   ]
  },
  {
   "cell_type": "code",
   "execution_count": 18,
   "metadata": {},
   "outputs": [
    {
     "name": "stdout",
     "output_type": "stream",
     "text": [
      "['105∙102', '106∙040', '10∙254', '10∙299', '10∙405', '10∙617', '10∙753', '10∙761', '10∙762', '10∙780', '114∙990', '116∙787', '11∙140', '11∙449', '11∙633', '12∙007', '12∙120', '12∙162', '12∙752', '132∙698', '13∙160', '13∙722', '140∙287', '153∙863', '15∙262', '15∙450', '15∙471', '16∙294', '18∙677', '18∙885', '18∙901', '1∙073', '1∙074', '1∙098', '1∙141', '1∙150', '1∙160', '1∙343', '1∙353', '1∙361', '1∙401', '1∙407', '1∙419', '1∙492', '1∙575', '1∙615', '1∙633', '1∙645', '1∙653', '1∙695', '1∙702', '1∙755', '1∙823', '1∙848', '1∙850', '1∙856', '1∙944', '1∙971', '22∙782', '26∙500', '26∙613', '28∙408', '29∙956', '2∙000', '2∙003', '2∙047', '2∙095', '2∙112', '2∙146', '2∙149', '2∙174', '2∙183', '2∙184', '2∙245', '2∙293', '2∙325', '2∙327', '2∙358', '2∙405', '2∙427', '2∙464', '2∙651', '2∙666', '2∙677', '2∙748', '2∙803', '2∙827', '2∙850', '2∙876', '31∙332', '31∙352', '33∙156', '34∙695', '35∙784', '35∙992', '39∙056', '3ft.', '3∙026', '3∙049', '3∙055', '3∙111', '3∙158', '3∙161', '3∙213', '3∙324', '3∙331', '3∙358', '3∙376', '3∙467', '3∙585', '3∙654', '3∙666', '3∙671', '3∙871', '3∙905', '41∙602', '42∙225', '43∙232', '45∙191', '45∙953', '4∙068', '4∙118', '4∙272', '4∙289', '4∙450', '4∙460', '4∙494', '4∙636', '4∙819', '4∙899', '57∙4', '5∙007', '5∙048', '5∙084', '5∙119', '5∙132', '5∙388', '5∙426', '5∙474', '5∙496', '5∙601', '5∙656', '5∙739', '5∙840', '5∙848', '61∙8', '62∙757', '63∙8', '66∙1', '66∙4', '67∙902', '6∙002', '6∙122', '6∙176', '6∙238', '6∙499', '6∙614', '6∙704', '6∙954', '6∙974', '745∙187', '746∙514', '747∙165', '767∙222', '7∙167', '7∙208', '7∙234', '7∙307', '7∙367', '7∙578', '7∙794', '7∙815', '8∙097', '8∙194', '8∙208', '8∙284', '8∙383', '8∙441', '8∙724', '8∙729', '8∙792', '9∙139', '9∙466', '9∙563', '9∙708', '9∙823', 'b.m.118∙3', 'b.m.149∙7', 'b.m.60∙2', 'b.m.61∙5', 'b.m.68∙2', 'b.s', 'c.d.', 'c.s.', 'def', 'f.b.', 'f.p.', 'hartlake bridge', 'l.b', 'p', 'w', 'weir', 'wharf', 'whitepost plantation']\n"
     ]
    }
   ],
   "source": [
    "print(sorted(phrase_dic3[name[8]]))"
   ]
  },
  {
   "cell_type": "code",
   "execution_count": 19,
   "metadata": {},
   "outputs": [],
   "source": [
    "phrase2 = {'b.m.118∙3', 'b.m.149∙7', 'b.m.60∙2', 'b.m.61∙5', 'b.m.68∙2', 'b.s', 'c.d.', 'c.s.', 'def', 'f.b.', \n",
    "           'f.p.', 'hartlake bridge', 'weir', 'wharf', 'whitepost plantation'}\n",
    "a = phrase_dic[name[8]] # ground truth phrases\n",
    "phrase_dic2[name[8]] = sorted(a.union(phrase2))"
   ]
  },
  {
   "cell_type": "code",
   "execution_count": 20,
   "metadata": {},
   "outputs": [
    {
     "name": "stdout",
     "output_type": "stream",
     "text": [
      "['10∙256', '10∙613', '10∙721', '10∙748', '10∙762', '11∙030', '11∙116', '11∙296', '11∙493', '11∙601', '11∙635', '11∙658', '125∙906', '12∙162', '12∙218', '13∙602', '13∙701', '146∙5', '14∙326', '153∙158', '15∙164', '15∙471', '15∙495', '15∙556', '15∙659', '16∙740', '17∙653', '18∙291', '19∙032', '1∙134', '1∙318', '1∙323', '1∙342', '1∙406', '1∙455', '1∙466', '1∙520', '1∙535', '1∙611', '1∙729', '1∙736', '1∙781', '1∙876', '1∙923', '24∙116', '25∙781', '26∙131', '27∙199', '28∙408', '2∙023', '2∙044', '2∙095', '2∙149', '2∙219', '2∙289', '2∙399', '2∙403', '2∙466', '2∙522', '2∙666', '2∙668', '2∙776', '2∙840', '2∙850', '2∙920', '2∙949', '30∙768', '35∙600', '35∙922', '38∙635', '39∙691', '3ft. r.h.', '3ft.f.p.', '3ft.r.h.', '3ft.tk.f.', '3∙060', '3∙142', '3∙149', '3∙213', '3∙237', '3∙336', '3∙451', '3∙541', '3∙586', '3∙737', '3∙787', '3∙902', '3∙919', '4∙028', '4∙036', '4∙066', '4∙107', '4∙120', '4∙210', '4∙281', '4∙321', '4∙463', '4∙517', '4∙538', '4∙680', '4∙803', '4∙846', '512a', '57∙084', '5∙077', '5∙159', '5∙254', '5∙289', '5∙338', '5∙462', '5∙549', '5∙643', '5∙656', '5∙679', '5∙798', '5∙806', '5∙879', '5∙911', '5∙956', '63∙999', '6∙122', '6∙141', '6∙148', '6∙251', '6∙486', '6∙527', '6∙558', '6∙886', '7∙034', '7∙215', '7∙251', '7∙380', '7∙615', '7∙994', '8∙011', '8∙258', '8∙500', '8∙616', '8∙743', '8∙799', '9∙185', '9∙213', '9∙252', '9∙563', '9∙573', '9∙611', '9∙863', '9∙875', 'b.m.', 'b.m.107∙0', 'b.m.157∙1', 'b.m.190∙7', 'b.m.193∙7', 'b.m.356∙4', 'bm.168∙8', 'c.s.', 'f.b.', 'f.p.', 'g.p', 'm.p', 'p', 'post office', 'ps', 's.b', 's.p', 'und', 'w']\n"
     ]
    }
   ],
   "source": [
    "print(sorted(phrase_dic3[name[9]]))"
   ]
  },
  {
   "cell_type": "code",
   "execution_count": 21,
   "metadata": {},
   "outputs": [],
   "source": [
    "phrase2 = {'b.m.', 'b.m.107∙0', 'b.m.157∙1', 'b.m.190∙7', 'b.m.193∙7', 'b.m.356∙4', 'bm.168∙8', 'c.s.', 'f.b.', 'f.p.', \n",
    "           'g.p', 'm.p', 'post office', 'ps', 's.b', 's.p', 'und'}\n",
    "a = phrase_dic[name[9]] # ground truth phrases\n",
    "phrase_dic2[name[9]] = sorted(a.union(phrase2))"
   ]
  },
  {
   "cell_type": "code",
   "execution_count": 22,
   "metadata": {},
   "outputs": [
    {
     "name": "stdout",
     "output_type": "stream",
     "text": [
      "['(calexico)', '(calipatria)', '(coyote wells)', '(heber)', '(iris)', '(kane spring)', '(plaster city)', '1/2', \"115��30'\", \"115��45'\", '14��', '1927 north american datum 10,000-foot grid based on california coordinate system, zone 6 1000-meter universal transverse mercator grid ticks, zone 11, shown in blue', '2 160 000 feet', '2 220 000 feet', '2 lane', '2.8 mi. to u.s. 99', '220 000 feet', '3.6 mi. to u.s. 99', '300 000 feet', \"32��45'\", \"33��00'\", \"35'\", '3625000m.n.', '3651000m.n.', '4 lane', \"40'\", '5.4 mi. to calif. 98', \"50'\", \"55'\", '58 mi. to calif. 115', '618000m.e.', '640000m.e.', 'a folder describing topographic maps and symbols is avaiable on request', 'aerial photographs taken 1953', 'alamorio 2.7 mi.', 'approximate mean declinatioin, 1957', 'beacon', 'bm-31', 'bm-32', 'bm-33', 'bm-35', 'bm-37', 'bm-38', 'bm-39', 'bm-40', 'bm-41', 'bm-42', 'bm-43', 'bm-44', 'bm-45', 'bm-46', 'bm-47', 'bm-48', 'bm-49', 'bm-56', 'bm-59', 'bm-60', 'bm-62', 'bm-65', 'brawley, calif.', 'calexico 16 mi.', 'calexico 7.7 mi.', 'calexico 7.8 mi.', 'calif', 'calipatria 9.3 mi.', 'ch', 'chemical', 'compiled in 1961 from 1:24 000-scale maps of brawley, brawley nw, seeley, and el centro 7.5 minute quadrangles, surveyed 1957', 'contour interval 10 feet', 'control by usgs, usc&gs, usce, and u.s. bureau of reclamation', 'county airport', 'datum is mean sea level', 'department of water resources', 'dixieland 1.2 mi.', 'dogwood', 'dotted lines represent 5-foot contours', 'drive-in theater', 'elm', 'feet', 'for sale by u.s. geological survey, denver 25, colorado or washington 25, d.c.', 'gaging sta', 'grain', 'heavy-duty', 'heber 2.6 mi.', 'holtville (calif. 115) 7.1 mi.', 'indio 66 mi.', 'interior-geological survey washington d c -1961-ns', 'kilometers', 'labor camp', 'light-duty', 'magnetic north', 'mapped, edited, and published by the geological survey', 'mccabe union sch', 'medium-duty', 'miles', 'mount signal 5 mi.', 'mr 0313', 'n3245-w11530/15', 'oil', 'one', 'plaster city 6.5 mi.', 'po', 'polyconic projection.', 'quadrangle location', 'r 12 e.', 'r. 12 e.', 'r. 13 e.', 'r. 14 e.', 'r. 14. e.', 'radio sta kxo', 'red tint indicates areas in which only landmark buildings are shown', 'road classification', 'scale 1:62 500', 'sea level', 'siphon', 'st', 'state of california', 'state route', 't 13 s', 't 14 s', 't 15 s', 't 16 s', 't. 13 s.', 't. 14 s.', 't. 15 s.', 't. 16 s.', 'this area also covered by 1:24 000-scale maps of brawley, brawley nw, seeley, and el centro 7.5 minute quadrangles, surveyed 1957', 'this map complies with national map accuracy standards', 'topography from aerial photographs by photogrammetric methods and by planetable surveys by usgs and usbr', 'true north', 'u.s. route', 'unimproved dirt', 'westmorland 3 mi.', 'westmorland 5 mi.', 'wt', 'yuma. ariz. 59 mi.']\n"
     ]
    }
   ],
   "source": [
    "print(sorted(phrase_dic3[name[10]]))"
   ]
  },
  {
   "cell_type": "code",
   "execution_count": 23,
   "metadata": {},
   "outputs": [],
   "source": [
    "phrase2 = {'county airport', 'labor camp','radio sta kxo'}\n",
    "a = phrase_dic[name[10]] # ground truth phrases\n",
    "phrase_dic2[name[10]] = sorted(a.union(phrase2))"
   ]
  },
  {
   "cell_type": "code",
   "execution_count": 24,
   "metadata": {},
   "outputs": [
    {
     "name": "stdout",
     "output_type": "stream",
     "text": [
      "['(file copy1)', '(san simeon)', '1/2', '1/62500', \"121��15'\", '121��30', \"121��30'\", '17 1/4��', \"20'\", \"25'\", \"35��45'\", \"36��00'\", \"50'\", \"55'\", 'approximate mean declination, 1917', 'bm 1222', 'bm 1308', 'bm 1358', 'bm 1647', 'bm 2673', 'bm 2723', 'bm 2822', 'bm 3127', 'bm 35', 'bm 506', 'cr', 'creek', 'engraved 1921 by u.s.g.s.', 'g-43605 62 usgs 1921', 'magnetic north', 'nessler', 'no 1', 'no 2', 'old', 'pt', 'r. 4 e.', 'r. 5 e.', 'r. 6 e.', 'r. 7 e.', 'r.6 e.', 'spruce', 'stonesifer', 't. 22 s.', 't. 23 s.', 't. 24 s.', 't. 25 s.', 'trail', 'true north', 'u.s.c. and g.s.']\n"
     ]
    }
   ],
   "source": [
    "print(sorted(phrase_dic3[name[11]]))"
   ]
  },
  {
   "cell_type": "code",
   "execution_count": 25,
   "metadata": {},
   "outputs": [],
   "source": [
    "phrase2 = {'spruce cr'}\n",
    "a = phrase_dic[name[11]] # ground truth phrases\n",
    "phrase_dic2[name[11]] = sorted(a.union(phrase2))"
   ]
  },
  {
   "cell_type": "code",
   "execution_count": 26,
   "metadata": {},
   "outputs": [
    {
     "name": "stdout",
     "output_type": "stream",
     "text": [
      "['(concord)', '1/2', '122°30’', \"20'\", \"25'\", '37°45’', \"50'\", \"55'\", 'east oakland', 'l.s.s.', 'miles', 'monterey line', 'nysl', 'obsolete topos', 's.p. r.r.', 't(794) q9']\n"
     ]
    }
   ],
   "source": [
    "print(sorted(phrase_dic3[name[13]]))"
   ]
  },
  {
   "cell_type": "code",
   "execution_count": 27,
   "metadata": {},
   "outputs": [],
   "source": [
    "phrase2 = {'east oakland'}\n",
    "a = phrase_dic[name[13]] # ground truth phrases\n",
    "phrase_dic2[name[13]] = sorted(a.union(phrase2))"
   ]
  },
  {
   "cell_type": "code",
   "execution_count": 28,
   "metadata": {},
   "outputs": [
    {
     "name": "stdout",
     "output_type": "stream",
     "text": [
      "['(big trees)', '(markleeville)', '(mt.lyell)', '(sonora)', '(wellington)', '1/2', \"10'\", '119°30’', '120°00’', \"20'\", '38°00’', '38°30’', \"40'\", \"50'\", 'b.m.', 'california', 'contour interval 100 feet', 'cooper pk.', 'dardanelles', 'dardanelles quadrangle', 'datum is mean sea level', 'edition of may 1898, reprinted nov. 1912. with corrections.', 'engraved jan. 1898 by u.s.g.s.', 'kilometers', \"marshall '96\", \"mc.k '91\", 'miles', 'note: in joining bridgeport sheet, which is projected on u.s. standard, use black dotted corners.', 'nysl', 'obsolete topos', 'r.18.e.', 'r.19.e.', 'r.20.e.', 'r.21.e.', 'r.22.e.', 'r.u.goode, geographer in charge.', 'scale 1/125000', 'surveyed in 1891-96.', 't(794) 019', 't.2.n.', 't.3.n.', 't.4.n.', 't.5.n.', 't.6.n.', 't.7.n.', 't.8.n.', 'topography', 'topography by r.h.mckee and r.b.marshall.', 'triangulation by h.e.c.feusier']\n"
     ]
    }
   ],
   "source": [
    "print(sorted(phrase_dic3[name[14]]))"
   ]
  },
  {
   "cell_type": "code",
   "execution_count": 29,
   "metadata": {},
   "outputs": [],
   "source": [
    "phrase2 = {'cooper pk.'}\n",
    "a = phrase_dic[name[14]] # ground truth phrases\n",
    "phrase_dic2[name[14]] = sorted(a.union(phrase2))"
   ]
  },
  {
   "cell_type": "code",
   "execution_count": 30,
   "metadata": {},
   "outputs": [
    {
     "name": "stdout",
     "output_type": "stream",
     "text": [
      "['(salton sink 1/500000)', '(salton sink) 1/500000', '(yuma)', '-10', '-122', '-43', '-48', '-52', '-58', '-6', '-7', '1/2', '1/500000', \"10'\", '115°00’', '115°30’', '14°', \"20'\", \"30' series\", '32°30’', '33°00’', \"40'\", \"50'\", 'approximate mean declination 1905.', 'bm', 'calif. holtville n3230-w11500/30', 'contour interval 120 feet', 'datum is mean sea level', 'e.m.douglas, geographer.', 'edition of 1907, reprinted 1946', 'feet', 'holt ditch no 3', 'kilometers', 'magnetic north', 'miles', 'polyconic projection. north american datum', 'r.b.marshall, in charge of section.', 'readjustment indicates that elevations on this map should be increased 1 foot', 'rr', 'scale 1/125000', 'surveyed in 1905.', 'topography by s.n.stoner, j.p.harrison, and u.s. reclamation service.', 'triangulation by c.f.urquhart.', 'true north', 'u.s.g.s.', 'u.s.r.s.', 'university of southern california library', 'yards']\n"
     ]
    }
   ],
   "source": [
    "print(sorted(phrase_dic3[name[15]]))"
   ]
  },
  {
   "cell_type": "code",
   "execution_count": 31,
   "metadata": {},
   "outputs": [],
   "source": [
    "phrase2 = {'holt ditch no 3'}\n",
    "a = phrase_dic[name[15]] # ground truth phrases\n",
    "phrase_dic2[name[15]] = sorted(a.union(phrase2))"
   ]
  },
  {
   "cell_type": "code",
   "execution_count": 32,
   "metadata": {},
   "outputs": [
    {
     "name": "stdout",
     "output_type": "stream",
     "text": [
      "['-100', '-111', '-121', '-135', '-15', '-175', '-183', '-189', '-200', '-233', '-248', '-62', '-66', '-93', '1/125000', '1/2', \"10'\", '100 ft. below sea level', \"20'\", '200 ft. below sea level', \"30'\", \"40'\", 'b.m.', 'kilometers', 'miles', 'nysl', 'obsolete topos', 'r.5.e.', 'r.7.e.', 'sea level', 't(794) zg 33']\n"
     ]
    }
   ],
   "source": [
    "print(sorted(phrase_dic3[name[16]]))"
   ]
  },
  {
   "cell_type": "code",
   "execution_count": 33,
   "metadata": {},
   "outputs": [],
   "source": [
    "phrase2 = {}\n",
    "a = phrase_dic[name[16]] # ground truth phrases\n",
    "phrase_dic2[name[16]] = sorted(a.union(phrase2))"
   ]
  },
  {
   "cell_type": "code",
   "execution_count": 34,
   "metadata": {},
   "outputs": [
    {
     "name": "stdout",
     "output_type": "stream",
     "text": [
      "['(goleta) 1:62500', '(santa ynez)', '(the last three digits of the gird numbers are omitted)', \"00°26'\", '1/2', \"10'\", \"120°00'\", \"120°30'\", \"16°52'\", '1:62500', \"20'\", '3 lane', '300 mils', \"34°30'\", \"35°00'\", '4 lane', \"40'\", \"50'\", '56e', '8 mils', '9/43w.h.', 'bm 112', 'bm 308', 'bm 339', 'bm 376', 'bm 425', 'bm 518', 'bm 569', 'bm 93', 'bm 939', 'bm 94', 'control by u.s. geological survey 1903.', 'five thousand yard grid computed from \"grid system for progressive maps in the u.s.\" zone g, u.s.c. & g.s. special publication no. 59', 'g4360s 125 ams 1943', 'miles', 'n3430-w12000/30', 'note: officers using this map will mark hereon corrections and additions which come to their attention and mail direct to \"the chief of engineers, washington, d.c.\"', 'photography by 2nd photographic squadron, air corps, u.s. army, 1941.', 'planmetric detail revised as a federal w.p.a. project, under supervision of 29th engineers, u.s. army.', 'polyconic projection, north american 1927 datum.', 'prepared under the direction of the chief of engineers, u.s. army, 1942.', 'santa barbara 28 mi.', 'santa paula 75 mi.', 'scale 1/125000', 'sp rr', 'topography by u.s. geological survey, 1903-1904.', 'twenty thousand foot plane coordinates computed from u.s.c. and g.s. projection tables for california v are indicated by short dotted lines on all margins and by coordinate numbers on the top and right margins', 'yards', 'ytias cr']\n"
     ]
    }
   ],
   "source": [
    "print(sorted(phrase_dic3[name[17]]))"
   ]
  },
  {
   "cell_type": "code",
   "execution_count": 35,
   "metadata": {
    "scrolled": true
   },
   "outputs": [],
   "source": [
    "phrase2 = {'ytias cr'}\n",
    "a = phrase_dic[name[17]] # ground truth phrases\n",
    "phrase_dic2[name[17]] = sorted(a.union(phrase2))"
   ]
  },
  {
   "cell_type": "code",
   "execution_count": 36,
   "metadata": {},
   "outputs": [
    {
     "name": "stdout",
     "output_type": "stream",
     "text": [
      "['0°', '1/2', \"10'\", \"14°00' or 249 mils\", \"1°32' or 27.3 mils\", \"20'\", '3 lane', '4 lane', \"40'\", 'classification cancelled by authority of chief of engineers letter of apr 5 1946', 'dependable hard-surface, heavy-duty road.', 'dirt road', 'g4360s 125 ams 1943', 'loose-surface graded, dry weather road.', 'magnetic north', 'miles', 'more than two lanes indicated by note along road with tick at point of change.', 'road classification 1943', 'scale: 1:125,000', 'secondary, hard-surface, all-weather road.', 'state route', 'true north', 'u.s. route', 'y', 'yards']\n"
     ]
    }
   ],
   "source": [
    "print(sorted(phrase_dic3[name[18]]))"
   ]
  },
  {
   "cell_type": "code",
   "execution_count": 37,
   "metadata": {},
   "outputs": [],
   "source": [
    "phrase2 = {}\n",
    "a = phrase_dic[name[18]] # ground truth phrases\n",
    "phrase_dic2[name[18]] = sorted(a.union(phrase2))"
   ]
  },
  {
   "cell_type": "code",
   "execution_count": 38,
   "metadata": {},
   "outputs": [
    {
     "name": "stdout",
     "output_type": "stream",
     "text": [
      "['1/250,000', '120°', '121°', \"15'\", \"30'\", '41°', '42°', \"45'\", 'card', 'ronald j. allen map collection']\n"
     ]
    }
   ],
   "source": [
    "print(sorted(phrase_dic3[name[19]]))"
   ]
  },
  {
   "cell_type": "code",
   "execution_count": 39,
   "metadata": {},
   "outputs": [],
   "source": [
    "phrase2 = {}\n",
    "a = phrase_dic[name[19]] # ground truth phrases\n",
    "phrase_dic2[name[19]] = sorted(a.union(phrase2))"
   ]
  },
  {
   "cell_type": "code",
   "execution_count": 40,
   "metadata": {},
   "outputs": [
    {
     "name": "stdout",
     "output_type": "stream",
     "text": [
      "['(camp mohave)', '(ivanpah)', '1/250000', \"115°00'\", \"116°00'\", \"17°00'\", \"1°25'\", \"20'\", '25 mils', '302 mils', \"34°00'\", \"35°00'\", \"40'\", 'advance edition', \"approximate mean declination 1942 annual magnetic change 1' decrease\", 'g4360s 250 ce 1942', 'grid north', 'magnetic north', 'miles', 'subject to correction', 'y', 'yards']\n"
     ]
    }
   ],
   "source": [
    "print(sorted(phrase_dic3[name[20]]))"
   ]
  },
  {
   "cell_type": "code",
   "execution_count": 41,
   "metadata": {},
   "outputs": [],
   "source": [
    "phrase2 = {}\n",
    "a = phrase_dic[name[20]] # ground truth phrases\n",
    "phrase_dic2[name[20]] = sorted(a.union(phrase2))"
   ]
  },
  {
   "cell_type": "code",
   "execution_count": 42,
   "metadata": {},
   "outputs": [
    {
     "name": "stdout",
     "output_type": "stream",
     "text": [
      "['(blythe)', '(camp mohave)', '(ivanpah)', \"0°17'\", '1/250000', \"115°00'\", \"116°00'\", \"1°25'\", \"20'\", '25 mils', \"34°00'\", \"35°00'\", '3rd armd div camp', \"40'\", '5 mils', 'advance edition', \"annual magnetic change 1' decrease\", 'approximate mean declination 1943', 'army map service. washington, d.c. 101420 reprinted by 29th engr. reproduction plant, portland, oregon, 1943.', 'classification cancelled by authority of chief of engineers letter of jan 22 1946', 'culture revisions shown in red based on reconnaissance by 67th engr. co. (top.) may not be of same accuracy as base map.', 'desert center 22 5 mi.', 'g4360s 250 usgs 1943', 'grid north', 'iron mtn pumping plant', 'kilometers', 'landing fields in dry weather', 'lime mine refinery', 'ludlow 12 mi.', 'magnetic north', 'metropolitan aqueduct', 'miles', 'n3400w11500/60', 'restricted', 's', 'salt marsh', 'subject to correction', 'training map', 'tunnel', 'unlimited', 'w', 'water point with showers', 'well', 'y', 'yards']\n"
     ]
    }
   ],
   "source": [
    "print(sorted(phrase_dic3[name[21]]))"
   ]
  },
  {
   "cell_type": "code",
   "execution_count": 43,
   "metadata": {},
   "outputs": [],
   "source": [
    "phrase2 = {'salt marsh'}\n",
    "a = phrase_dic[name[21]] # ground truth phrases\n",
    "phrase_dic2[name[21]] = sorted(a.union(phrase2))"
   ]
  },
  {
   "cell_type": "code",
   "execution_count": 44,
   "metadata": {},
   "outputs": [
    {
     "name": "stdout",
     "output_type": "stream",
     "text": [
      "['1/250,000', '121°', '122°', \"15'\", \"30'\", '41°', '42°', \"45'\", 'g4360s 250 usgs c1886', 'miles', 'modoc hava bed, calif.']\n"
     ]
    }
   ],
   "source": [
    "print(sorted(phrase_dic3[name[22]]))"
   ]
  },
  {
   "cell_type": "code",
   "execution_count": 45,
   "metadata": {},
   "outputs": [],
   "source": [
    "phrase2 = {}\n",
    "a = phrase_dic[name[22]] # ground truth phrases\n",
    "phrase_dic2[name[22]] = sorted(a.union(phrase2))"
   ]
  },
  {
   "cell_type": "code",
   "execution_count": 46,
   "metadata": {},
   "outputs": [
    {
     "name": "stdout",
     "output_type": "stream",
     "text": [
      "['(the last three digits of the gird numbers are omitted)', \"10'\", \"115°00'\", \"116°00'\", \"16°41'\", \"1°24'\", \"20'\", '25 mils', '296 mils', '3 lane', \"30'\", \"33°00'\", \"34°00'\", '4 lane', \"40'\", \"50'\", 'bartlet', 'canal', 'casaba', 'coachella', 'compiled by 29th engineers, u.s. army, from maps of metropolitan water district, scale 1:120,000, u.s. geological survey \"salton sea and vicinity\", scale 1:62,500 and \"salton sink\", scale 1:500,000.', 'g4360s 250 ce 1943', 'iris', 'kilometers', 'magnetic north', 'metropolitan aqueduct', 'miles', 'more than two lanes indicated by note with tick at point of change.', 'n3300-w11500/60', 'note: officers using this map will mark hereon corrections and additions which come to their attention and mail direct to \"the chief of engineers. washington. d.c.\"', 'parker', 'photography by flight \"f\" 1st photographic squadron, u.s. army, 1940.', 'polyconic projection, north american 1927 datum.', 'possible landing field in dry weather', 'prepared under the direction of the chief of engineers, u.s. army, 1942.', 'rice 41 mi.', 'road data 1942', 'road data, culture and drainage revised from tandem t-3a (5 lens) aerial photographs, road maps of riverside and imperial counties,', 'road maps of the bureau of public roads, maps of imperial irrigation district and field reconnaissance by 29th engineers, u.s. army.', 'scale 1/250000', 'sea level', 'southern pacific', 'ten thousand meter grid converted from \"grid system for progressive maps in the u.s.\" zone f. u.s.c. & g.s. special publication no.59', 'true north', 'w', 'y', 'yards']\n"
     ]
    }
   ],
   "source": [
    "print(sorted(phrase_dic3[name[23]]))"
   ]
  },
  {
   "cell_type": "code",
   "execution_count": 47,
   "metadata": {},
   "outputs": [],
   "source": [
    "phrase2 = {'bartlet', 'canal', 'casaba', 'coachella', 'iris','metropolitan aqueduct', 'parker', 'southern pacific'}\n",
    "a = phrase_dic[name[23]] # ground truth phrases\n",
    "phrase_dic2[name[23]] = sorted(a.union(phrase2))"
   ]
  },
  {
   "cell_type": "code",
   "execution_count": 48,
   "metadata": {},
   "outputs": [],
   "source": [
    "# convert phrase set to list to save json file\n",
    "phrase_dic4 = dict()\n",
    "for key in phrase_dic2:\n",
    "    phrase_dic4[key] = sorted(list(phrase_dic2[key]))"
   ]
  },
  {
   "cell_type": "code",
   "execution_count": 49,
   "metadata": {},
   "outputs": [],
   "source": [
    "import json\n",
    "\n",
    "with open('map_phrase.json', 'w') as f:\n",
    "    json.dump(phrase_dic4, f)"
   ]
  },
  {
   "cell_type": "code",
   "execution_count": null,
   "metadata": {},
   "outputs": [],
   "source": []
  }
 ],
 "metadata": {
  "kernelspec": {
   "display_name": "Python 3",
   "language": "python",
   "name": "python3"
  },
  "language_info": {
   "codemirror_mode": {
    "name": "ipython",
    "version": 3
   },
   "file_extension": ".py",
   "mimetype": "text/x-python",
   "name": "python",
   "nbconvert_exporter": "python",
   "pygments_lexer": "ipython3",
   "version": "3.7.2"
  }
 },
 "nbformat": 4,
 "nbformat_minor": 2
}
